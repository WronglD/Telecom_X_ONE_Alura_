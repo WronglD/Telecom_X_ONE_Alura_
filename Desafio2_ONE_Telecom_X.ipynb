{
  "nbformat": 4,
  "nbformat_minor": 0,
  "metadata": {
    "colab": {
      "provenance": []
    },
    "kernelspec": {
      "name": "python3",
      "display_name": "Python 3"
    },
    "language_info": {
      "name": "python"
    }
  },
  "cells": [
    {
      "cell_type": "markdown",
      "metadata": {
        "id": "view-in-github"
      },
      "source": [
        "<a href=\"https://colab.research.google.com/github/SueliHora/challenge2-Desafio_Telecom_X_Parte_2/blob/main/analise_churn_parte2.ipynb\" target=\"_parent\"><img src=\"https://colab.research.google.com/assets/colab-badge.svg\" alt=\"Open In Colab\"/></a>"
      ]
    },
    {
      "cell_type": "markdown",
      "source": [
        "# Desafio Telecom X - Parte 2: Previsão de Churn com Machine Learning\n",
        "\n",
        "## 1. Introdução\n",
        "\n",
        "O propósito deste projeto é desenvolver e testar modelos de **Machine Learning** para antecipar a evasão de clientes (churn) em uma empresa de telecomunicações. Com base nos dados preparados na Parte 1, o foco está em organizar os dados para modelagem, treinar diferentes algoritmos, comparar seus desempenhos e, por fim, identificar os fatores mais relevantes que levam um cliente a cancelar o serviço.\n"
      ],
      "metadata": {
        "id": "_EUuehfVJfvP"
      }
    },
    {
      "cell_type": "code",
      "source": [
        "# --- 1. Importação e Carregamento dos Dados ---\n",
        "import pandas as pd\n",
        "df = pd.read_csv('/dados_tratados.csv')\n",
        "\n",
        "# --- 2. Pré-processamento ---\n",
        "df = df.drop('customerID', axis=1)\n",
        "df_encoded = pd.get_dummies(df, drop_first=True)\n",
        "\n",
        "# --- 3. Separação de Features (X) e Alvo (y) ---\n",
        "X = df_encoded.drop('Churn', axis=1)\n",
        "y = df_encoded['Churn']\n",
        "\n",
        "# --- 4. Divisão em Dados de Treino e Teste ---\n",
        "from sklearn.model_selection import train_test_split\n",
        "X_train, X_test, y_train, y_test = train_test_split(X, y, test_size=0.2, random_state=42)\n",
        "\n",
        "# --- 5. Scaling dos Dados (NOVO PASSO!) ---\n",
        "from sklearn.preprocessing import StandardScaler\n",
        "\n",
        "# Cria o objeto scaler\n",
        "scaler = StandardScaler()\n",
        "\n",
        "# \"Aprende\" a escala com os dados de TREINO e os transforma\n",
        "X_train_scaled = scaler.fit_transform(X_train)\n",
        "\n",
        "# Apenas transforma os dados de TESTE com a mesma escala aprendida\n",
        "X_test_scaled = scaler.transform(X_test)\n",
        "\n",
        "\n",
        "print(\"Dados preparados, divididos e escalados com sucesso!\")"
      ],
      "metadata": {
        "colab": {
          "base_uri": "https://localhost:8080/"
        },
        "id": "XUxnU8ChJoMY",
        "outputId": "6c1c5591-2556-4850-c88c-045d6e122c95"
      },
      "execution_count": null,
      "outputs": [
        {
          "output_type": "stream",
          "name": "stdout",
          "text": [
            "Dados preparados, divididos e escalados com sucesso!\n"
          ]
        }
      ]
    },
    {
      "cell_type": "markdown",
      "source": [
        "## 2. Treinamento e Avaliação dos Modelos\n",
        "\n",
        "Nesta fase, dois algoritmos de classificação foram desenvolvidos e testados com o objetivo de identificar qual apresenta o melhor desempenho na previsão de clientes que irão cancelar o serviço (churn).\n"
      ],
      "metadata": {
        "id": "sHJIBl6qJvan"
      }
    },
    {
      "cell_type": "code",
      "source": [
        "# --- Modelo 1: Regressão Logística ---\n",
        "from sklearn.linear_model import LogisticRegression\n",
        "from sklearn.metrics import accuracy_score, classification_report\n",
        "\n",
        "# Instancia o modelo (max_iter não é mais tão crítico, mas podemos manter)\n",
        "modelo_logistico = LogisticRegression(max_iter=1000)\n",
        "\n",
        "# ATENÇÃO: Usando os dados escalados (scaled) para treinar\n",
        "modelo_logistico.fit(X_train_scaled, y_train)\n",
        "\n",
        "# E usando os dados de teste escalados para prever\n",
        "previsoes_logistico = modelo_logistico.predict(X_test_scaled)\n",
        "\n",
        "print(\"--- Resultados do Modelo de Regressão Logística ---\")\n",
        "print(f\"Acurácia: {accuracy_score(y_test, previsoes_logistico) * 100:.2f}%\")\n",
        "print(\"\\nRelatório de Classificação:\")\n",
        "print(classification_report(y_test, previsoes_logistico))"
      ],
      "metadata": {
        "colab": {
          "base_uri": "https://localhost:8080/"
        },
        "id": "hG5wv4K0JwV7",
        "outputId": "6c91ea1a-2ad3-4c61-dee8-fcccb271d0d4"
      },
      "execution_count": null,
      "outputs": [
        {
          "output_type": "stream",
          "name": "stdout",
          "text": [
            "--- Resultados do Modelo de Regressão Logística ---\n",
            "Acurácia: 79.60%\n",
            "\n",
            "Relatório de Classificação:\n",
            "              precision    recall  f1-score   support\n",
            "\n",
            "           0       0.84      0.89      0.86      1033\n",
            "           1       0.64      0.54      0.58       374\n",
            "\n",
            "    accuracy                           0.80      1407\n",
            "   macro avg       0.74      0.71      0.72      1407\n",
            "weighted avg       0.79      0.80      0.79      1407\n",
            "\n"
          ]
        }
      ]
    },
    {
      "cell_type": "code",
      "source": [
        "# --- Modelo 2: Random Forest ---\n",
        "from sklearn.ensemble import RandomForestClassifier\n",
        "\n",
        "# Instancia e treina o modelo\n",
        "modelo_floresta = RandomForestClassifier(random_state=42)\n",
        "modelo_floresta.fit(X_train, y_train)\n",
        "\n",
        "# Faz as previsões e avalia o modelo\n",
        "previsoes_floresta = modelo_floresta.predict(X_test)\n",
        "\n",
        "print(\"--- Resultados do Modelo Random Forest ---\")\n",
        "print(f\"Acurácia: {accuracy_score(y_test, previsoes_floresta) * 100:.2f}%\")\n",
        "print(\"\\nRelatório de Classificação:\")\n",
        "print(classification_report(y_test, previsoes_floresta))"
      ],
      "metadata": {
        "colab": {
          "base_uri": "https://localhost:8080/"
        },
        "id": "OhmqcPkOJ65d",
        "outputId": "e4fc11c1-305f-42d2-becd-5223c553e696"
      },
      "execution_count": null,
      "outputs": [
        {
          "output_type": "stream",
          "name": "stdout",
          "text": [
            "--- Resultados do Modelo Random Forest ---\n",
            "Acurácia: 77.75%\n",
            "\n",
            "Relatório de Classificação:\n",
            "              precision    recall  f1-score   support\n",
            "\n",
            "           0       0.82      0.89      0.85      1033\n",
            "           1       0.61      0.46      0.52       374\n",
            "\n",
            "    accuracy                           0.78      1407\n",
            "   macro avg       0.71      0.68      0.69      1407\n",
            "weighted avg       0.76      0.78      0.77      1407\n",
            "\n"
          ]
        }
      ]
    },
    {
      "cell_type": "markdown",
      "source": [
        "## 3. Análise do Modelo Selecionado e Principais Fatores\n",
        "\n",
        "Após a avaliação comparativa, a **Regressão Logística** foi eleita como o modelo principal, por apresentar melhor desempenho no **recall** da classe “churn”.  \n",
        "A seguir, analisaremos quais variáveis (features) tiveram maior influência nas decisões do modelo.\n"
      ],
      "metadata": {
        "id": "rjeyECAuKAKh"
      }
    },
    {
      "cell_type": "code",
      "source": [
        "# Extrai os coeficientes do modelo de Regressão Logística\n",
        "feature_names = X.columns\n",
        "coeficientes = modelo_logistico.coef_[0]\n",
        "\n",
        "# Cria um DataFrame para visualizar a importância de cada fator\n",
        "importancia_features = pd.DataFrame({'Fator': feature_names, 'Peso': coeficientes})\n",
        "\n",
        "# Ordena os fatores pela sua importância (valor absoluto do peso)\n",
        "importancia_features['Importancia'] = importancia_features['Peso'].abs()\n",
        "importancia_ordenada = importancia_features.sort_values(by='Importancia', ascending=False)\n",
        "importancia_ordenada = importancia_ordenada.drop(columns='Importancia')\n",
        "\n",
        "print(\"--- Fatores que Mais Influenciam o Churn (do maior para o menor impacto) ---\")\n",
        "print(\"Pesos positivos aumentam a chance de Churn. Pesos negativos diminuem a chance de Churn.\")\n",
        "print(importancia_ordenada.head(15))"
      ],
      "metadata": {
        "colab": {
          "base_uri": "https://localhost:8080/"
        },
        "id": "1AsWJ_ZGKBPc",
        "outputId": "98a6a2eb-b229-475e-a250-292ddd3c8520"
      },
      "execution_count": null,
      "outputs": [
        {
          "output_type": "stream",
          "name": "stdout",
          "text": [
            "--- Fatores que Mais Influenciam o Churn (do maior para o menor impacto) ---\n",
            "Pesos positivos aumentam a chance de Churn. Pesos negativos diminuem a chance de Churn.\n",
            "                             Fator      Peso\n",
            "1                           tenure -1.504375\n",
            "3                    Charges.Total  0.762711\n",
            "25               Contract_Two year -0.611861\n",
            "10     InternetService_Fiber optic  0.549261\n",
            "2                  Charges.Monthly -0.445468\n",
            "24               Contract_One year -0.297896\n",
            "28  PaymentMethod_Electronic check  0.181594\n",
            "26            PaperlessBilling_Yes  0.176807\n",
            "9                MultipleLines_Yes  0.176481\n",
            "21                 StreamingTV_Yes  0.155072\n",
            "23             StreamingMovies_Yes  0.152699\n",
            "13              OnlineSecurity_Yes -0.146230\n",
            "19                 TechSupport_Yes -0.120072\n",
            "0                    SeniorCitizen  0.087943\n",
            "6                   Dependents_Yes -0.079903\n"
          ]
        }
      ]
    },
    {
      "cell_type": "markdown",
      "source": [
        "## 4. Conclusão e Recomendações Estratégicas\n",
        "\n",
        "### Resumo do Projeto\n",
        "O propósito deste projeto foi construir um modelo de **machine learning** capaz de prever a evasão de clientes (churn) na **Telecom X** e identificar os fatores mais relevantes que influenciam essa decisão.\n",
        "\n",
        "### Desempenho e Seleção do Modelo\n",
        "Foram avaliados dois algoritmos de classificação: **Regressão Logística** e **Random Forest**.  \n",
        "O modelo escolhido como principal foi a **Regressão Logística**, por apresentar melhor desempenho na tarefa mais crítica para a empresa: detectar clientes com risco real de churn.  \n",
        "O modelo atingiu um **recall de 54%** para os clientes propensos a cancelar, enquanto o Random Forest alcançou 46%.\n",
        "\n",
        "### Principais Insights\n",
        "A análise do modelo vencedor destacou os fatores que mais impactam a evasão e a retenção:  \n",
        "- Clientes com **internet de Fibra Óptica** e que utilizam **meios de pagamento e fatura digital** apresentam maior probabilidade de cancelar.  \n",
        "- Fatores que fortalecem a retenção incluem a adesão a **contratos de longo prazo (1 ou 2 anos)** e a contratação de serviços adicionais como **Suporte Técnico** e **Segurança Online**.\n",
        "\n",
        "### Recomendações Estratégicas\n",
        "Com base nos achados, sugerem-se as seguintes ações:  \n",
        "1. **Fidelização de Contratos:** Desenvolver campanhas que incentivem clientes de planos mensais a migrar para contratos de 1 ou 2 anos, oferecendo descontos ou vantagens explícitas.  \n",
        "2. **Análise do Serviço de Fibra:** Realizar pesquisas detalhadas com clientes de Fibra Óptica para entender os motivos da alta evasão — se relacionados a preço, qualidade do serviço ou concorrência intensa.  \n",
        "3. **Pacotes com Valor Agregado:** Promover serviços de **Suporte Técnico** e **Segurança Online** como diferenciais para aumentar a fidelização, já que se mostraram eficazes na retenção de clientes.\n"
      ],
      "metadata": {
        "id": "vrLCH5-FKInq"
      }
    }
  ]
}